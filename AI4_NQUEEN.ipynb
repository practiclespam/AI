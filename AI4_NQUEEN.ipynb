{
 "cells": [
  {
   "cell_type": "code",
   "execution_count": 1,
   "id": "6753449d",
   "metadata": {},
   "outputs": [
    {
     "name": "stdout",
     "output_type": "stream",
     "text": [
      "Solution found:\n",
      "[0, 0, 1, 0]\n",
      "[1, 0, 0, 0]\n",
      "[0, 0, 0, 1]\n",
      "[0, 1, 0, 0]\n",
      "\n"
     ]
    }
   ],
   "source": [
    "def solve_n_queens(n):\n",
    "    solution = []\n",
    "\n",
    "    def backtrack(board, col):\n",
    "        # Base case: All queens have been placed, add the solution to the list\n",
    "        if col == n:\n",
    "            solution.append([list(row) for row in board])\n",
    "            return True\n",
    "\n",
    "        # Try placing a queen in each row of the current column\n",
    "        for row in range(n):\n",
    "            if is_safe(board, row, col):\n",
    "                # Place the queen\n",
    "                board[row][col] = 1\n",
    "\n",
    "                # Recursively backtrack to the next column\n",
    "                if backtrack(board, col + 1):\n",
    "                    return True\n",
    "\n",
    "                # If no solution found, remove the queen and continue exploring other rows\n",
    "                board[row][col] = 0\n",
    "\n",
    "        # No safe position found, backtrack to the previous column\n",
    "        return False\n",
    "\n",
    "    def is_safe(board, row, col):\n",
    "        # Check if placing a queen at (row, col) is safe\n",
    "\n",
    "        # Check if there is any queen in the same column\n",
    "        for i in range(col):\n",
    "            if board[row][i] == 1:\n",
    "                return False\n",
    "\n",
    "        # Check the upper diagonal\n",
    "        for i, j in zip(range(row, -1, -1), range(col, -1, -1)):\n",
    "            if board[i][j] == 1:\n",
    "                return False\n",
    "\n",
    "        # Check the lower diagonal\n",
    "        for i, j in zip(range(row, n, 1), range(col, -1, -1)):\n",
    "            if board[i][j] == 1:\n",
    "                return False\n",
    "\n",
    "        # Safe to place a queen at (row, col)\n",
    "        return True\n",
    "\n",
    "    # Create an empty chessboard\n",
    "    board = [[0] * n for _ in range(n)]\n",
    "\n",
    "    # Start backtracking from the first column (col=0)\n",
    "    backtrack(board, 0)\n",
    "\n",
    "    return solution\n",
    "\n",
    "\n",
    "# Example usage for n-queens problem\n",
    "n = 4\n",
    "solution = solve_n_queens(n)\n",
    "\n",
    "if solution:\n",
    "    print(\"Solution found:\")\n",
    "    for row in solution:\n",
    "        for col in row:\n",
    "            print(col)\n",
    "        print()\n",
    "else:\n",
    "    print(\"No solution found.\")"
   ]
  },
  {
   "cell_type": "code",
   "execution_count": null,
   "id": "1f32d038",
   "metadata": {},
   "outputs": [],
   "source": []
  }
 ],
 "metadata": {
  "kernelspec": {
   "display_name": "Python 3 (ipykernel)",
   "language": "python",
   "name": "python3"
  },
  "language_info": {
   "codemirror_mode": {
    "name": "ipython",
    "version": 3
   },
   "file_extension": ".py",
   "mimetype": "text/x-python",
   "name": "python",
   "nbconvert_exporter": "python",
   "pygments_lexer": "ipython3",
   "version": "3.11.2"
  }
 },
 "nbformat": 4,
 "nbformat_minor": 5
}
